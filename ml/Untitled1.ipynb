{
 "cells": [
  {
   "cell_type": "code",
   "execution_count": 4,
   "id": "9ab3ea53-0abf-4688-8570-cda7cc59b855",
   "metadata": {},
   "outputs": [],
   "source": [
    "import re   \n",
    "import joblib\n",
    "from nltk.corpus import stopwords\n",
    "from nltk.stem import PorterStemmer\n",
    "model = joblib.load(\"news_classifier.pkl\")  \n",
    "vectorizer = joblib.load(\"tfidf_vectorizer.pkl\")  \n",
    "port_stem = PorterStemmer()\n",
    "stop_words = set(stopwords.words('english')) "
   ]
  },
  {
   "cell_type": "code",
   "execution_count": 5,
   "id": "eed968e4-875b-4972-8de4-2bcb46c50e3d",
   "metadata": {},
   "outputs": [],
   "source": [
    "def stemming(content):\n",
    "    stemmed_content = re.sub('[^a-zA-Z]', ' ', content)  # Remove non-alphabet characters\n",
    "    stemmed_content = stemmed_content.lower()  # Convert to lowercase\n",
    "    stemmed_content = stemmed_content.split()  # Tokenize words\n",
    "    stemmed_content = [port_stem.stem(word) for word in stemmed_content if word not in stop_words]  \n",
    "    stemmed_content = ' '.join(stemmed_content)  # Join words back into a string\n",
    "    return stemmed_content\n",
    "\n"
   ]
  },
  {
   "cell_type": "code",
   "execution_count": 10,
   "id": "7870f017-c2ce-4b9a-a289-22a22e1c2508",
   "metadata": {},
   "outputs": [],
   "source": [
    "headline = \"Jackie Mason: Hollywood Would Love Trump if He Bombed North Korea over Lack of Trans Bathrooms (Exclusive Video) - Breitbart\"\n"
   ]
  },
  {
   "cell_type": "code",
   "execution_count": 11,
   "id": "4cd812bc-6e34-4520-ab94-e43725a3b841",
   "metadata": {},
   "outputs": [],
   "source": [
    "cleaned_headline = stemming(headline)  # ✅ Now `stemming()` is defined properly\n"
   ]
  },
  {
   "cell_type": "code",
   "execution_count": 12,
   "id": "55e0b00b-268e-458d-82e6-2e83cdd9993c",
   "metadata": {},
   "outputs": [],
   "source": [
    "transformed_headline = vectorizer.transform([cleaned_headline])  # Transform using the loaded vectorizer\n"
   ]
  },
  {
   "cell_type": "code",
   "execution_count": 13,
   "id": "f9f61108-86fb-4ecf-aa6e-6de0f03f22bb",
   "metadata": {},
   "outputs": [
    {
     "name": "stdout",
     "output_type": "stream",
     "text": [
      "Prediction: Real News\n"
     ]
    }
   ],
   "source": [
    "prediction = model.predict(transformed_headline)\n",
    "print(\"Prediction:\", \"Fake News\" if prediction[0] == 1 else \"Real News\")\n"
   ]
  },
  {
   "cell_type": "code",
   "execution_count": null,
   "id": "60ebf071-42aa-4ab4-8fe8-355a75ed7a5b",
   "metadata": {},
   "outputs": [],
   "source": []
  }
 ],
 "metadata": {
  "kernelspec": {
   "display_name": "Python (myenv)",
   "language": "python",
   "name": "myenv"
  },
  "language_info": {
   "codemirror_mode": {
    "name": "ipython",
    "version": 3
   },
   "file_extension": ".py",
   "mimetype": "text/x-python",
   "name": "python",
   "nbconvert_exporter": "python",
   "pygments_lexer": "ipython3",
   "version": "3.13.1"
  }
 },
 "nbformat": 4,
 "nbformat_minor": 5
}
