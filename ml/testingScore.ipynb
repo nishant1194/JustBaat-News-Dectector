{
 "cells": [
  {
   "cell_type": "code",
   "execution_count": 1,
   "id": "c05055d3-10d0-4d99-94fb-7393746185b9",
   "metadata": {},
   "outputs": [],
   "source": [
    "import joblib\n",
    "\n",
    "# Load the trained model\n",
    "model = joblib.load(\"conspiracy_score_fake_news_model.pkl\")\n",
    "\n",
    "# Load the saved TF-IDF vectorizer\n",
    "vectorizer = joblib.load(\"conspiracy_score_vectorizer.pkl\")\n"
   ]
  },
  {
   "cell_type": "code",
   "execution_count": 15,
   "id": "d3d1fc17-3193-4f01-9a37-eeaafb4df488",
   "metadata": {},
   "outputs": [],
   "source": [
    "def preprocess_text(text):\n",
    "    text = text.lower()  # Convert to lowercase\n",
    "    text = re.sub(r'\\d+', '', text)  # Remove numbers\n",
    "    text = text.translate(str.maketrans(\"\", \"\", string.punctuation))  # Remove punctuation\n",
    "    text = re.sub(r'\\s+', ' ', text).strip()  # Remove extra spaces\n",
    "    text = \" \".join([lemmatizer.lemmatize(word) for word in text.split() if word not in stop_words])  # Lemmatization\n",
    "    return text\n"
   ]
  },
  {
   "cell_type": "code",
   "execution_count": 16,
   "id": "79cc17b9-8aed-446f-a947-abba65bddf36",
   "metadata": {},
   "outputs": [],
   "source": [
    "def predict_headline(headline):\n",
    "    cleaned_headline = preprocess_text(headline)  # Make sure to define preprocess_text function\n",
    "    transformed_headline = vectorizer.transform([cleaned_headline])\n",
    "    prediction = model.predict_proba(transformed_headline)[0]  # Get probability scores\n",
    "\n",
    "    # Compute conspiracy score using dot product with a smoother scale\n",
    "    score = np.dot(prediction, np.linspace(0, 1, len(prediction))) * 100  \n",
    "\n",
    "    return int(score)\n"
   ]
  },
  {
   "cell_type": "code",
   "execution_count": 17,
   "id": "f05be3c1-d671-41af-8e11-b9b692c27123",
   "metadata": {},
   "outputs": [
    {
     "name": "stdout",
     "output_type": "stream",
     "text": [
      "Conspiracy Score: 87%\n"
     ]
    }
   ],
   "source": [
    "headline = \"Breaking: You Won't Believe What This Celebrity Did!\"\n",
    "score = predict_headline(headline)\n",
    "print(f\"Conspiracy Score: {score}%\")"
   ]
  },
  {
   "cell_type": "code",
   "execution_count": 6,
   "id": "c8e13d30-80b1-454e-a914-945d878b7246",
   "metadata": {},
   "outputs": [],
   "source": [
    "import re"
   ]
  },
  {
   "cell_type": "code",
   "execution_count": 10,
   "id": "1fded933-7cba-4233-a122-587f9123e82a",
   "metadata": {},
   "outputs": [],
   "source": [
    "import string"
   ]
  },
  {
   "cell_type": "code",
   "execution_count": 14,
   "id": "9900c23c-0d31-4e77-bc70-52678643de81",
   "metadata": {},
   "outputs": [
    {
     "name": "stderr",
     "output_type": "stream",
     "text": [
      "[nltk_data] Downloading package stopwords to\n",
      "[nltk_data]     /Users/nishant/nltk_data...\n",
      "[nltk_data]   Package stopwords is already up-to-date!\n",
      "[nltk_data] Downloading package wordnet to /Users/nishant/nltk_data...\n",
      "[nltk_data]   Package wordnet is already up-to-date!\n"
     ]
    }
   ],
   "source": [
    "import string\n",
    "import re\n",
    "import numpy as np\n",
    "import nltk\n",
    "from nltk.corpus import stopwords\n",
    "from nltk.stem import WordNetLemmatizer\n",
    "\n",
    "# Download necessary NLTK data\n",
    "nltk.download('stopwords')\n",
    "nltk.download('wordnet')\n",
    "\n",
    "# Initialize stop words and lemmatizer\n",
    "stop_words = set(stopwords.words('english'))\n",
    "lemmatizer = WordNetLemmatizer()\n",
    "\n"
   ]
  },
  {
   "cell_type": "code",
   "execution_count": 18,
   "id": "9f9d4ffd-f157-4997-8f44-1e5b75b92240",
   "metadata": {},
   "outputs": [
    {
     "name": "stdout",
     "output_type": "stream",
     "text": [
      "The history saving thread hit an unexpected error (OperationalError('attempt to write a readonly database')).History will not be written to the database.\n",
      "Conspiracy Score: 89%\n"
     ]
    }
   ],
   "source": [
    "headline = \"Iranian woman jailed for fictional unpublished story about woman stoned to death for adultery!\"\n",
    "score = predict_headline(headline)\n",
    "print(f\"Conspiracy Score: {score}%\")"
   ]
  },
  {
   "cell_type": "code",
   "execution_count": 19,
   "id": "6508c52c-0d93-41f0-be9c-bd4ed1e31c1a",
   "metadata": {},
   "outputs": [
    {
     "name": "stdout",
     "output_type": "stream",
     "text": [
      "Conspiracy Score: 11%\n"
     ]
    }
   ],
   "source": [
    "\n",
    "headline = \"Jackie Mason: Hollywood Would Love Trump if He Bombed North Korea over Lack of Trans Bathrooms (Exclusive Video) - Breitbart!\"\n",
    "score = predict_headline(headline)\n",
    "print(f\"Conspiracy Score: {score}%\")"
   ]
  },
  {
   "cell_type": "code",
   "execution_count": null,
   "id": "be55d643-3724-485a-8ebe-1e4dc77f91a8",
   "metadata": {},
   "outputs": [],
   "source": []
  }
 ],
 "metadata": {
  "kernelspec": {
   "display_name": "Python (myenv)",
   "language": "python",
   "name": "myenv"
  },
  "language_info": {
   "codemirror_mode": {
    "name": "ipython",
    "version": 3
   },
   "file_extension": ".py",
   "mimetype": "text/x-python",
   "name": "python",
   "nbconvert_exporter": "python",
   "pygments_lexer": "ipython3",
   "version": "3.13.1"
  }
 },
 "nbformat": 4,
 "nbformat_minor": 5
}
